{
 "cells": [
  {
   "cell_type": "code",
   "execution_count": 1,
   "metadata": {},
   "outputs": [],
   "source": [
    "import numpy as np\n",
    "import os  # for mkdir\n",
    "import sys\n",
    "import math\n",
    "import librosa # conda install -c conda-forge librosa\n",
    "import soundfile as sf\n",
    "\n",
    "##-----------   paramManager  interface   ------------------##\n",
    "# git clone https://github.com/prashanthtr/paramManager\n",
    "from parammanager import paramManager\n",
    "from sonyganformat import sonyGanJson"
   ]
  },
  {
   "cell_type": "markdown",
   "metadata": {},
   "source": [
    "### Chunk file into 1 seconds and based on SampleRate"
   ]
  },
  {
   "cell_type": "code",
   "execution_count": 2,
   "metadata": {},
   "outputs": [],
   "source": [
    "chunkDuration = 1; # 1 sec\n",
    "resampFreq = 22050;"
   ]
  },
  {
   "cell_type": "code",
   "execution_count": 3,
   "metadata": {},
   "outputs": [
    {
     "name": "stdout",
     "output_type": "stream",
     "text": [
      "arp_1  0\n",
      "arp_1  1\n",
      "arp_1  2\n",
      "arp_1  3\n",
      "arp_1  4\n",
      "arp_1  5\n",
      "arp_1  6\n",
      "arp_1  7\n",
      "arp_1  8\n",
      "arp_1  9\n",
      "arp_1  10\n",
      "arp_1  11\n",
      "arp_1  12\n",
      "arp_1  13\n",
      "arp_1  14\n",
      "arp_1  15\n",
      "arp_1  16\n",
      "arp_1  17\n",
      "arp_1  18\n",
      "arp_1  19\n",
      "arp_1  20\n",
      "arp_1  21\n",
      "arp_1  22\n",
      "arp_1  23\n",
      "arp_1  24\n",
      "arp_1  25\n",
      "arp_1  26\n",
      "arp_1  27\n",
      "arp_1  28\n",
      "arp_1  29\n",
      "arp_1  30\n",
      "arp_1  31\n",
      "arp_1  32\n",
      "arp_1  33\n",
      "arp_1  34\n",
      "arp_1  35\n",
      "arp_1  36\n",
      "arp_1  37\n",
      "arp_1  38\n",
      "arp_1  39\n",
      "arp_1  40\n",
      "arp_1  41\n",
      "arp_1  42\n",
      "arp_1  43\n",
      "arp_1  44\n",
      "arp_1  45\n",
      "arp_1  46\n",
      "arp_1  47\n",
      "arp_1  48\n",
      "arp_1  49\n",
      "arp_1  50\n",
      "arp_1  51\n",
      "arp_1  52\n",
      "arp_1  53\n",
      "arp_1  54\n",
      "arp_1  55\n",
      "arp_1  56\n",
      "arp_1  57\n",
      "arp_1  58\n",
      "arp_1  59\n",
      "arp_1  60\n",
      "arp_1  61\n",
      "arp_1  62\n",
      "arp_1  63\n",
      "arp_1  64\n",
      "arp_1  65\n",
      "arp_1  66\n",
      "arp_1  67\n",
      "arp_1  68\n",
      "arp_1  69\n",
      "arp_1  70\n",
      "arp_1  71\n",
      "arp_1  72\n",
      "arp_1  73\n",
      "arp_1  74\n",
      "arp_1  75\n",
      "arp_1  76\n",
      "arp_1  77\n",
      "arp_1  78\n",
      "arp_1  79\n",
      "arp_1  80\n",
      "arp_1  81\n",
      "arp_1  82\n",
      "arp_1  83\n",
      "arp_1  84\n",
      "arp_1  85\n",
      "arp_1  86\n",
      "arp_1  87\n",
      "arp_1  88\n",
      "arp_1  89\n",
      "arp_1  90\n",
      "arp_1  91\n",
      "arp_1  92\n",
      "arp_1  93\n",
      "arp_1  94\n",
      "arp_1  95\n",
      "arp_1  96\n",
      "arp_1  97\n",
      "arp_1  98\n",
      "arp_1  99\n",
      "arp_1  100\n",
      "arp_1  101\n",
      "arp_1  102\n",
      "arp_1  103\n",
      "arp_1  104\n",
      "arp_1  105\n",
      "arp_1  106\n",
      "arp_1  107\n",
      "arp_1  108\n",
      "arp_1  109\n",
      "arp_1  110\n",
      "arp_1  111\n",
      "arp_1  112\n",
      "arp_1  113\n",
      "arp_1  114\n",
      "arp_1  115\n",
      "arp_1  116\n",
      "arp_1  117\n",
      "arp_1  118\n",
      "arp_1  119\n",
      "arp_1  120\n",
      "arp_1  121\n",
      "arp_1  122\n",
      "arp_1  123\n"
     ]
    }
   ],
   "source": [
    "from utils import longSilence\n",
    "\n",
    "datapath='srcwav'  #root folder\n",
    "fileList = [f for f in os.listdir(datapath) if os.path.isfile(os.path.join(datapath, f)) and (os.path.splitext(f)[1]==\".wav\" or os.path.splitext(f)[1]==\".aif\" or os.path.splitext(f)[1]==\".aiff\")]\n",
    "#stub: fileList = [\"silence.wav\"]\n",
    "\n",
    "\n",
    "createSegments = True\n",
    "\n",
    "if createSegments == True:\n",
    "    for fileName in fileList:\n",
    "\n",
    "        sig,sr=librosa.core.load(datapath + \"/\" + fileName, sr=None)\n",
    "        \n",
    "        # resample\n",
    "        sig= librosa.core.resample(sig, sr, resampFreq) \n",
    "\n",
    "        fileBase = os.path.splitext(fileName)[0]\n",
    "\n",
    "        numSamplesPerChunk = int(chunkDuration*resampFreq);\n",
    "        numChunks = math.floor(len(sig)/numSamplesPerChunk)\n",
    "        segment = []\n",
    "\n",
    "        mean = np.mean(sig)\n",
    "\n",
    "        for i in range(numChunks-1):\n",
    "            segment = sig[i*numSamplesPerChunk:(i+1)*numSamplesPerChunk]\n",
    "            mean = np.mean(segment)\n",
    "            x = [sample-mean for sample in segment] #dc filter\n",
    "            if( longSilence(x, 0.01) ):\n",
    "                print(fileBase + \" \",  i)\n",
    "                norm = librosa.util.normalize(x)\n",
    "                sf.write(\"segmented\" + \"/\" + fileBase + \"--\" + \"v-\" + str(i) + \".wav\", norm, resampFreq)\n",
    "            else:\n",
    "                print(\"Discarding a silent segment \", i)\n",
    "            i = i + 1;"
   ]
  },
  {
   "cell_type": "markdown",
   "metadata": {},
   "source": [
    "### Generate record formats (parammanager, sonyGan, tfrecords)"
   ]
  },
  {
   "cell_type": "code",
   "execution_count": 4,
   "metadata": {},
   "outputs": [],
   "source": [
    "#Setup paths for paramManager and examplesJSON\n",
    "datapath = 'segmented'\n",
    "parampath = 'segmented'"
   ]
  },
  {
   "cell_type": "markdown",
   "metadata": {},
   "source": [
    "### ParamManager"
   ]
  },
  {
   "cell_type": "code",
   "execution_count": 5,
   "metadata": {},
   "outputs": [],
   "source": [
    "pm=paramManager.paramManager(datapath,parampath) #filebase is directory name\n",
    "pm.initParamFiles(overwrite=True) ##-----------   paramManager  interface ------------------##\n",
    "pm.checkIntegrity()\n",
    "\n",
    "paramList = [f for f in os.listdir(datapath) if os.path.isfile(os.path.join(parampath, os.path.splitext(f)[0] + \".params\"))]\n",
    "for p in paramList:\n",
    "    soundText = os.path.splitext(p)[0].split(\"--\")\n",
    "    foo=pm.getParams(datapath + '/' + p) #extension is optional\n",
    "    pm.addMetaParam(parampath + '/' + p,\"soundName\", soundText[0])\n",
    "    pm.addMetaParam(parampath + '/' + p,\"segmentNum\", int(soundText[len(soundText)-1].split(\"-\")[1]))"
   ]
  },
  {
   "cell_type": "code",
   "execution_count": 6,
   "metadata": {},
   "outputs": [
    {
     "name": "stdout",
     "output_type": "stream",
     "text": [
      "{'meta': {'filename': 'arp_1--v-123.wav', 'soundName': 'arp_1', 'segmentNum': 123}}\n"
     ]
    }
   ],
   "source": [
    "paramList = [\"arp_1--v-123.params\"]\n",
    "\n",
    "for p in paramList:\n",
    "    foo=pm.getParams(parampath + '/' + p) #extension is optional\n",
    "    print(foo)"
   ]
  },
  {
   "cell_type": "markdown",
   "metadata": {},
   "source": [
    "### SonyGan format"
   ]
  },
  {
   "cell_type": "code",
   "execution_count": 7,
   "metadata": {},
   "outputs": [
    {
     "name": "stdout",
     "output_type": "stream",
     "text": [
      "parameters\n",
      "rate\n",
      "irreg\n",
      "cf\n",
      "v\n",
      "unrecognized param\n"
     ]
    }
   ],
   "source": [
    "# Read all files in datapath and create a examples.json\n",
    "print(\"parameters\")\n",
    "sg = sonyGanJson.SonyGanJson(datapath,\"natural\",22050,\"O'REILLY\")"
   ]
  },
  {
   "cell_type": "markdown",
   "metadata": {},
   "source": [
    "### Writing records in single SG json file"
   ]
  },
  {
   "cell_type": "code",
   "execution_count": 8,
   "metadata": {},
   "outputs": [
    {
     "name": "stdout",
     "output_type": "stream",
     "text": [
      "written output to  sonyGan.json\n"
     ]
    }
   ],
   "source": [
    "#sg.ppRecords() # pretty prints in json format\n",
    "sg.write2File(\"sonyGan.json\") "
   ]
  },
  {
   "cell_type": "code",
   "execution_count": null,
   "metadata": {},
   "outputs": [],
   "source": []
  }
 ],
 "metadata": {
  "kernelspec": {
   "display_name": "Python (RNN-grant)",
   "language": "python",
   "name": "rnn-grant"
  },
  "language_info": {
   "codemirror_mode": {
    "name": "ipython",
    "version": 3
   },
   "file_extension": ".py",
   "mimetype": "text/x-python",
   "name": "python",
   "nbconvert_exporter": "python",
   "pygments_lexer": "ipython3",
   "version": "3.8.5"
  }
 },
 "nbformat": 4,
 "nbformat_minor": 4
}
